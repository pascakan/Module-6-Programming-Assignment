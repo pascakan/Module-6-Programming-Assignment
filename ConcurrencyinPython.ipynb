{
 "cells": [
  {
   "cell_type": "markdown",
   "id": "a0dd15a7-8820-47bb-a481-b3484f1f2d8e",
   "metadata": {},
   "source": [
    "Writing, Reading, and Parsing Dates (Tasks 13.1–13.3)"
   ]
  },
  {
   "cell_type": "code",
   "execution_count": 1,
   "id": "01750c01-a9b5-477f-b14f-7e29a70c38b1",
   "metadata": {},
   "outputs": [
    {
     "name": "stdout",
     "output_type": "stream",
     "text": [
      "Task 13.1: Date written to file: 2024-12-16 02:19:13\n",
      "Task 13.2: Date read from file: 2024-12-16 02:19:13\n",
      "Task 13.3: Parsed date object: 2024-12-16 02:19:13\n"
     ]
    }
   ],
   "source": [
    "#13.1: Write the current date as a string to 'today.txt'\n",
    "from datetime import datetime\n",
    "\n",
    "# Step 1: Write the current date\n",
    "with open(\"today.txt\", \"w\") as file:\n",
    "    today = datetime.now().strftime(\"%Y-%m-%d %H:%M:%S\")\n",
    "    file.write(today)\n",
    "print(f\"Task 13.1: Date written to file: {today}\")\n",
    "#13.2: Read the text file 'today.txt' into the string today_string\n",
    "with open(\"today.txt\", \"r\") as file:\n",
    "    today_string = file.read()\n",
    "print(f\"Task 13.2: Date read from file: {today_string}\")\n",
    "#13.3: Parse the date from the string today_string\n",
    "parsed_date = datetime.strptime(today_string, \"%Y-%m-%d %H:%M:%S\")\n",
    "print(f\"Task 13.3: Parsed date object: {parsed_date}\")\n"
   ]
  },
  {
   "cell_type": "markdown",
   "id": "97a13801-c68c-46e9-a59c-39f44fbf92c0",
   "metadata": {},
   "source": [
    "Multiprocessing with Random Delays (Task 15.1)"
   ]
  },
  {
   "cell_type": "code",
   "execution_count": 3,
   "id": "d29b553b-cf8e-4c7e-ae88-bf5e15b980db",
   "metadata": {},
   "outputs": [
    {
     "name": "stdout",
     "output_type": "stream",
     "text": [
      "Task 15.1: All processes have completed.\n"
     ]
    }
   ],
   "source": [
    " #15.1: Use multiprocessing to create three processes with random delays\n",
    "from multiprocessing import Process\n",
    "from datetime import datetime\n",
    "from time import sleep\n",
    "import random\n",
    "\n",
    "def worker_process(worker_id):\n",
    "    # Random delay between 0 and 1 second\n",
    "    delay = random.uniform(0, 1)\n",
    "    sleep(delay)\n",
    "    print(f\"Process {worker_id} | Current Time: {datetime.now()} | Delay: {delay:.2f} seconds\")\n",
    "\n",
    "# Step 1: Create and start three processes\n",
    "if __name__ == \"__main__\":\n",
    "    processes = []\n",
    "    for i in range(1, 4):\n",
    "        p = Process(target=worker_process, args=(i,))\n",
    "        processes.append(p)\n",
    "        p.start()\n",
    "\n",
    "    # Step 2: Wait for all processes to finish\n",
    "    for p in processes:\n",
    "        p.join()\n",
    "    print(\"Task 15.1: All processes have completed.\")"
   ]
  },
  {
   "cell_type": "code",
   "execution_count": null,
   "id": "83591fc2-f596-4f0d-adcf-f2e91540a100",
   "metadata": {},
   "outputs": [],
   "source": []
  }
 ],
 "metadata": {
  "kernelspec": {
   "display_name": "Python 3 (ipykernel)",
   "language": "python",
   "name": "python3"
  },
  "language_info": {
   "codemirror_mode": {
    "name": "ipython",
    "version": 3
   },
   "file_extension": ".py",
   "mimetype": "text/x-python",
   "name": "python",
   "nbconvert_exporter": "python",
   "pygments_lexer": "ipython3",
   "version": "3.12.7"
  }
 },
 "nbformat": 4,
 "nbformat_minor": 5
}
